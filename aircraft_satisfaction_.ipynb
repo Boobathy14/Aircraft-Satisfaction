{
  "nbformat": 4,
  "nbformat_minor": 0,
  "metadata": {
    "colab": {
      "provenance": []
    },
    "kernelspec": {
      "name": "python3",
      "display_name": "Python 3"
    },
    "language_info": {
      "name": "python"
    }
  },
  "cells": [
    {
      "cell_type": "code",
      "execution_count": null,
      "metadata": {
        "id": "giKdiXZAlB4G"
      },
      "outputs": [],
      "source": [
        "import numpy as np\n",
        "import pandas as pd\n",
        "import statsmodels.api as sm\n",
        "from sklearn.preprocessing import StandardScaler\n",
        "from sklearn.ensemble import RandomForestClassifier\n",
        "from sklearn.model_selection import train_test_split"
      ]
    },
    {
      "cell_type": "code",
      "source": [
        "from google.colab import drive\n",
        "drive.mount('/content/gdrive')"
      ],
      "metadata": {
        "colab": {
          "base_uri": "https://localhost:8080/"
        },
        "id": "DEd36SM_lWoS",
        "outputId": "1c32095d-2644-4e37-c902-60739bbab9d0"
      },
      "execution_count": null,
      "outputs": [
        {
          "output_type": "stream",
          "name": "stdout",
          "text": [
            "Mounted at /content/gdrive\n"
          ]
        }
      ]
    },
    {
      "cell_type": "code",
      "source": [
        "df = pd.read_csv(\"/content/gdrive/MyDrive/project/train.csv\")"
      ],
      "metadata": {
        "id": "r7g_z0pHle6T"
      },
      "execution_count": null,
      "outputs": []
    },
    {
      "cell_type": "code",
      "source": [
        "df.head(1)"
      ],
      "metadata": {
        "colab": {
          "base_uri": "https://localhost:8080/",
          "height": 243
        },
        "id": "ezjx1hm3lwMi",
        "outputId": "b1e38517-699e-4e50-d58d-99d955f31b31"
      },
      "execution_count": null,
      "outputs": [
        {
          "output_type": "execute_result",
          "data": {
            "text/plain": [
              "   Unnamed: 0     id Gender   Customer Type  Age   Type of Travel     Class  \\\n",
              "0           0  70172   Male  Loyal Customer   13  Personal Travel  Eco Plus   \n",
              "\n",
              "   Flight Distance  Inflight wifi service  Departure/Arrival time convenient  \\\n",
              "0              460                      3                                  4   \n",
              "\n",
              "   ...  Inflight entertainment  On-board service  Leg room service  \\\n",
              "0  ...                       5                 4                 3   \n",
              "\n",
              "   Baggage handling  Checkin service  Inflight service  Cleanliness  \\\n",
              "0                 4                4                 5            5   \n",
              "\n",
              "   Departure Delay in Minutes  Arrival Delay in Minutes  \\\n",
              "0                          25                      18.0   \n",
              "\n",
              "              satisfaction  \n",
              "0  neutral or dissatisfied  \n",
              "\n",
              "[1 rows x 25 columns]"
            ],
            "text/html": [
              "\n",
              "  <div id=\"df-b2a05c62-cf41-45b8-bfcb-05ca1a48d61b\">\n",
              "    <div class=\"colab-df-container\">\n",
              "      <div>\n",
              "<style scoped>\n",
              "    .dataframe tbody tr th:only-of-type {\n",
              "        vertical-align: middle;\n",
              "    }\n",
              "\n",
              "    .dataframe tbody tr th {\n",
              "        vertical-align: top;\n",
              "    }\n",
              "\n",
              "    .dataframe thead th {\n",
              "        text-align: right;\n",
              "    }\n",
              "</style>\n",
              "<table border=\"1\" class=\"dataframe\">\n",
              "  <thead>\n",
              "    <tr style=\"text-align: right;\">\n",
              "      <th></th>\n",
              "      <th>Unnamed: 0</th>\n",
              "      <th>id</th>\n",
              "      <th>Gender</th>\n",
              "      <th>Customer Type</th>\n",
              "      <th>Age</th>\n",
              "      <th>Type of Travel</th>\n",
              "      <th>Class</th>\n",
              "      <th>Flight Distance</th>\n",
              "      <th>Inflight wifi service</th>\n",
              "      <th>Departure/Arrival time convenient</th>\n",
              "      <th>...</th>\n",
              "      <th>Inflight entertainment</th>\n",
              "      <th>On-board service</th>\n",
              "      <th>Leg room service</th>\n",
              "      <th>Baggage handling</th>\n",
              "      <th>Checkin service</th>\n",
              "      <th>Inflight service</th>\n",
              "      <th>Cleanliness</th>\n",
              "      <th>Departure Delay in Minutes</th>\n",
              "      <th>Arrival Delay in Minutes</th>\n",
              "      <th>satisfaction</th>\n",
              "    </tr>\n",
              "  </thead>\n",
              "  <tbody>\n",
              "    <tr>\n",
              "      <th>0</th>\n",
              "      <td>0</td>\n",
              "      <td>70172</td>\n",
              "      <td>Male</td>\n",
              "      <td>Loyal Customer</td>\n",
              "      <td>13</td>\n",
              "      <td>Personal Travel</td>\n",
              "      <td>Eco Plus</td>\n",
              "      <td>460</td>\n",
              "      <td>3</td>\n",
              "      <td>4</td>\n",
              "      <td>...</td>\n",
              "      <td>5</td>\n",
              "      <td>4</td>\n",
              "      <td>3</td>\n",
              "      <td>4</td>\n",
              "      <td>4</td>\n",
              "      <td>5</td>\n",
              "      <td>5</td>\n",
              "      <td>25</td>\n",
              "      <td>18.0</td>\n",
              "      <td>neutral or dissatisfied</td>\n",
              "    </tr>\n",
              "  </tbody>\n",
              "</table>\n",
              "<p>1 rows × 25 columns</p>\n",
              "</div>\n",
              "      <button class=\"colab-df-convert\" onclick=\"convertToInteractive('df-b2a05c62-cf41-45b8-bfcb-05ca1a48d61b')\"\n",
              "              title=\"Convert this dataframe to an interactive table.\"\n",
              "              style=\"display:none;\">\n",
              "        \n",
              "  <svg xmlns=\"http://www.w3.org/2000/svg\" height=\"24px\"viewBox=\"0 0 24 24\"\n",
              "       width=\"24px\">\n",
              "    <path d=\"M0 0h24v24H0V0z\" fill=\"none\"/>\n",
              "    <path d=\"M18.56 5.44l.94 2.06.94-2.06 2.06-.94-2.06-.94-.94-2.06-.94 2.06-2.06.94zm-11 1L8.5 8.5l.94-2.06 2.06-.94-2.06-.94L8.5 2.5l-.94 2.06-2.06.94zm10 10l.94 2.06.94-2.06 2.06-.94-2.06-.94-.94-2.06-.94 2.06-2.06.94z\"/><path d=\"M17.41 7.96l-1.37-1.37c-.4-.4-.92-.59-1.43-.59-.52 0-1.04.2-1.43.59L10.3 9.45l-7.72 7.72c-.78.78-.78 2.05 0 2.83L4 21.41c.39.39.9.59 1.41.59.51 0 1.02-.2 1.41-.59l7.78-7.78 2.81-2.81c.8-.78.8-2.07 0-2.86zM5.41 20L4 18.59l7.72-7.72 1.47 1.35L5.41 20z\"/>\n",
              "  </svg>\n",
              "      </button>\n",
              "      \n",
              "  <style>\n",
              "    .colab-df-container {\n",
              "      display:flex;\n",
              "      flex-wrap:wrap;\n",
              "      gap: 12px;\n",
              "    }\n",
              "\n",
              "    .colab-df-convert {\n",
              "      background-color: #E8F0FE;\n",
              "      border: none;\n",
              "      border-radius: 50%;\n",
              "      cursor: pointer;\n",
              "      display: none;\n",
              "      fill: #1967D2;\n",
              "      height: 32px;\n",
              "      padding: 0 0 0 0;\n",
              "      width: 32px;\n",
              "    }\n",
              "\n",
              "    .colab-df-convert:hover {\n",
              "      background-color: #E2EBFA;\n",
              "      box-shadow: 0px 1px 2px rgba(60, 64, 67, 0.3), 0px 1px 3px 1px rgba(60, 64, 67, 0.15);\n",
              "      fill: #174EA6;\n",
              "    }\n",
              "\n",
              "    [theme=dark] .colab-df-convert {\n",
              "      background-color: #3B4455;\n",
              "      fill: #D2E3FC;\n",
              "    }\n",
              "\n",
              "    [theme=dark] .colab-df-convert:hover {\n",
              "      background-color: #434B5C;\n",
              "      box-shadow: 0px 1px 3px 1px rgba(0, 0, 0, 0.15);\n",
              "      filter: drop-shadow(0px 1px 2px rgba(0, 0, 0, 0.3));\n",
              "      fill: #FFFFFF;\n",
              "    }\n",
              "  </style>\n",
              "\n",
              "      <script>\n",
              "        const buttonEl =\n",
              "          document.querySelector('#df-b2a05c62-cf41-45b8-bfcb-05ca1a48d61b button.colab-df-convert');\n",
              "        buttonEl.style.display =\n",
              "          google.colab.kernel.accessAllowed ? 'block' : 'none';\n",
              "\n",
              "        async function convertToInteractive(key) {\n",
              "          const element = document.querySelector('#df-b2a05c62-cf41-45b8-bfcb-05ca1a48d61b');\n",
              "          const dataTable =\n",
              "            await google.colab.kernel.invokeFunction('convertToInteractive',\n",
              "                                                     [key], {});\n",
              "          if (!dataTable) return;\n",
              "\n",
              "          const docLinkHtml = 'Like what you see? Visit the ' +\n",
              "            '<a target=\"_blank\" href=https://colab.research.google.com/notebooks/data_table.ipynb>data table notebook</a>'\n",
              "            + ' to learn more about interactive tables.';\n",
              "          element.innerHTML = '';\n",
              "          dataTable['output_type'] = 'display_data';\n",
              "          await google.colab.output.renderOutput(dataTable, element);\n",
              "          const docLink = document.createElement('div');\n",
              "          docLink.innerHTML = docLinkHtml;\n",
              "          element.appendChild(docLink);\n",
              "        }\n",
              "      </script>\n",
              "    </div>\n",
              "  </div>\n",
              "  "
            ]
          },
          "metadata": {},
          "execution_count": 114
        }
      ]
    },
    {
      "cell_type": "code",
      "source": [
        "df.shape"
      ],
      "metadata": {
        "colab": {
          "base_uri": "https://localhost:8080/"
        },
        "id": "NWqH75VEl0rc",
        "outputId": "f07261dc-ee33-40c4-ea30-3368bb0dd12a"
      },
      "execution_count": null,
      "outputs": [
        {
          "output_type": "execute_result",
          "data": {
            "text/plain": [
              "(103904, 25)"
            ]
          },
          "metadata": {},
          "execution_count": 115
        }
      ]
    },
    {
      "cell_type": "code",
      "source": [
        "df['satisfaction'].unique()"
      ],
      "metadata": {
        "colab": {
          "base_uri": "https://localhost:8080/"
        },
        "id": "A8JEvI4cmKM8",
        "outputId": "c18e4950-1b06-492b-ac3e-b06dd055259b"
      },
      "execution_count": null,
      "outputs": [
        {
          "output_type": "execute_result",
          "data": {
            "text/plain": [
              "array(['neutral or dissatisfied', 'satisfied'], dtype=object)"
            ]
          },
          "metadata": {},
          "execution_count": 116
        }
      ]
    },
    {
      "cell_type": "code",
      "source": [
        "df.describe()"
      ],
      "metadata": {
        "id": "F9EAwqrCmY0S",
        "colab": {
          "base_uri": "https://localhost:8080/",
          "height": 399
        },
        "outputId": "fb9e41e9-05ea-4c14-89a9-523119b7c57a"
      },
      "execution_count": null,
      "outputs": [
        {
          "output_type": "execute_result",
          "data": {
            "text/plain": [
              "          Unnamed: 0             id            Age  Flight Distance  \\\n",
              "count  103904.000000  103904.000000  103904.000000    103904.000000   \n",
              "mean    51951.500000   64924.210502      39.379706      1189.448375   \n",
              "std     29994.645522   37463.812252      15.114964       997.147281   \n",
              "min         0.000000       1.000000       7.000000        31.000000   \n",
              "25%     25975.750000   32533.750000      27.000000       414.000000   \n",
              "50%     51951.500000   64856.500000      40.000000       843.000000   \n",
              "75%     77927.250000   97368.250000      51.000000      1743.000000   \n",
              "max    103903.000000  129880.000000      85.000000      4983.000000   \n",
              "\n",
              "       Inflight wifi service  Departure/Arrival time convenient  \\\n",
              "count          103904.000000                      103904.000000   \n",
              "mean                2.729683                           3.060296   \n",
              "std                 1.327829                           1.525075   \n",
              "min                 0.000000                           0.000000   \n",
              "25%                 2.000000                           2.000000   \n",
              "50%                 3.000000                           3.000000   \n",
              "75%                 4.000000                           4.000000   \n",
              "max                 5.000000                           5.000000   \n",
              "\n",
              "       Ease of Online booking  Gate location  Food and drink  Online boarding  \\\n",
              "count           103904.000000  103904.000000   103904.000000    103904.000000   \n",
              "mean                 2.756901       2.976883        3.202129         3.250375   \n",
              "std                  1.398929       1.277621        1.329533         1.349509   \n",
              "min                  0.000000       0.000000        0.000000         0.000000   \n",
              "25%                  2.000000       2.000000        2.000000         2.000000   \n",
              "50%                  3.000000       3.000000        3.000000         3.000000   \n",
              "75%                  4.000000       4.000000        4.000000         4.000000   \n",
              "max                  5.000000       5.000000        5.000000         5.000000   \n",
              "\n",
              "        Seat comfort  Inflight entertainment  On-board service  \\\n",
              "count  103904.000000           103904.000000     103904.000000   \n",
              "mean        3.439396                3.358158          3.382363   \n",
              "std         1.319088                1.332991          1.288354   \n",
              "min         0.000000                0.000000          0.000000   \n",
              "25%         2.000000                2.000000          2.000000   \n",
              "50%         4.000000                4.000000          4.000000   \n",
              "75%         5.000000                4.000000          4.000000   \n",
              "max         5.000000                5.000000          5.000000   \n",
              "\n",
              "       Leg room service  Baggage handling  Checkin service  Inflight service  \\\n",
              "count     103904.000000     103904.000000    103904.000000     103904.000000   \n",
              "mean           3.351055          3.631833         3.304290          3.640428   \n",
              "std            1.315605          1.180903         1.265396          1.175663   \n",
              "min            0.000000          1.000000         0.000000          0.000000   \n",
              "25%            2.000000          3.000000         3.000000          3.000000   \n",
              "50%            4.000000          4.000000         3.000000          4.000000   \n",
              "75%            4.000000          5.000000         4.000000          5.000000   \n",
              "max            5.000000          5.000000         5.000000          5.000000   \n",
              "\n",
              "         Cleanliness  Departure Delay in Minutes  Arrival Delay in Minutes  \n",
              "count  103904.000000               103904.000000             103594.000000  \n",
              "mean        3.286351                   14.815618                 15.178678  \n",
              "std         1.312273                   38.230901                 38.698682  \n",
              "min         0.000000                    0.000000                  0.000000  \n",
              "25%         2.000000                    0.000000                  0.000000  \n",
              "50%         3.000000                    0.000000                  0.000000  \n",
              "75%         4.000000                   12.000000                 13.000000  \n",
              "max         5.000000                 1592.000000               1584.000000  "
            ],
            "text/html": [
              "\n",
              "  <div id=\"df-011b14fc-e867-46e8-9b26-fcfea704f110\">\n",
              "    <div class=\"colab-df-container\">\n",
              "      <div>\n",
              "<style scoped>\n",
              "    .dataframe tbody tr th:only-of-type {\n",
              "        vertical-align: middle;\n",
              "    }\n",
              "\n",
              "    .dataframe tbody tr th {\n",
              "        vertical-align: top;\n",
              "    }\n",
              "\n",
              "    .dataframe thead th {\n",
              "        text-align: right;\n",
              "    }\n",
              "</style>\n",
              "<table border=\"1\" class=\"dataframe\">\n",
              "  <thead>\n",
              "    <tr style=\"text-align: right;\">\n",
              "      <th></th>\n",
              "      <th>Unnamed: 0</th>\n",
              "      <th>id</th>\n",
              "      <th>Age</th>\n",
              "      <th>Flight Distance</th>\n",
              "      <th>Inflight wifi service</th>\n",
              "      <th>Departure/Arrival time convenient</th>\n",
              "      <th>Ease of Online booking</th>\n",
              "      <th>Gate location</th>\n",
              "      <th>Food and drink</th>\n",
              "      <th>Online boarding</th>\n",
              "      <th>Seat comfort</th>\n",
              "      <th>Inflight entertainment</th>\n",
              "      <th>On-board service</th>\n",
              "      <th>Leg room service</th>\n",
              "      <th>Baggage handling</th>\n",
              "      <th>Checkin service</th>\n",
              "      <th>Inflight service</th>\n",
              "      <th>Cleanliness</th>\n",
              "      <th>Departure Delay in Minutes</th>\n",
              "      <th>Arrival Delay in Minutes</th>\n",
              "    </tr>\n",
              "  </thead>\n",
              "  <tbody>\n",
              "    <tr>\n",
              "      <th>count</th>\n",
              "      <td>103904.000000</td>\n",
              "      <td>103904.000000</td>\n",
              "      <td>103904.000000</td>\n",
              "      <td>103904.000000</td>\n",
              "      <td>103904.000000</td>\n",
              "      <td>103904.000000</td>\n",
              "      <td>103904.000000</td>\n",
              "      <td>103904.000000</td>\n",
              "      <td>103904.000000</td>\n",
              "      <td>103904.000000</td>\n",
              "      <td>103904.000000</td>\n",
              "      <td>103904.000000</td>\n",
              "      <td>103904.000000</td>\n",
              "      <td>103904.000000</td>\n",
              "      <td>103904.000000</td>\n",
              "      <td>103904.000000</td>\n",
              "      <td>103904.000000</td>\n",
              "      <td>103904.000000</td>\n",
              "      <td>103904.000000</td>\n",
              "      <td>103594.000000</td>\n",
              "    </tr>\n",
              "    <tr>\n",
              "      <th>mean</th>\n",
              "      <td>51951.500000</td>\n",
              "      <td>64924.210502</td>\n",
              "      <td>39.379706</td>\n",
              "      <td>1189.448375</td>\n",
              "      <td>2.729683</td>\n",
              "      <td>3.060296</td>\n",
              "      <td>2.756901</td>\n",
              "      <td>2.976883</td>\n",
              "      <td>3.202129</td>\n",
              "      <td>3.250375</td>\n",
              "      <td>3.439396</td>\n",
              "      <td>3.358158</td>\n",
              "      <td>3.382363</td>\n",
              "      <td>3.351055</td>\n",
              "      <td>3.631833</td>\n",
              "      <td>3.304290</td>\n",
              "      <td>3.640428</td>\n",
              "      <td>3.286351</td>\n",
              "      <td>14.815618</td>\n",
              "      <td>15.178678</td>\n",
              "    </tr>\n",
              "    <tr>\n",
              "      <th>std</th>\n",
              "      <td>29994.645522</td>\n",
              "      <td>37463.812252</td>\n",
              "      <td>15.114964</td>\n",
              "      <td>997.147281</td>\n",
              "      <td>1.327829</td>\n",
              "      <td>1.525075</td>\n",
              "      <td>1.398929</td>\n",
              "      <td>1.277621</td>\n",
              "      <td>1.329533</td>\n",
              "      <td>1.349509</td>\n",
              "      <td>1.319088</td>\n",
              "      <td>1.332991</td>\n",
              "      <td>1.288354</td>\n",
              "      <td>1.315605</td>\n",
              "      <td>1.180903</td>\n",
              "      <td>1.265396</td>\n",
              "      <td>1.175663</td>\n",
              "      <td>1.312273</td>\n",
              "      <td>38.230901</td>\n",
              "      <td>38.698682</td>\n",
              "    </tr>\n",
              "    <tr>\n",
              "      <th>min</th>\n",
              "      <td>0.000000</td>\n",
              "      <td>1.000000</td>\n",
              "      <td>7.000000</td>\n",
              "      <td>31.000000</td>\n",
              "      <td>0.000000</td>\n",
              "      <td>0.000000</td>\n",
              "      <td>0.000000</td>\n",
              "      <td>0.000000</td>\n",
              "      <td>0.000000</td>\n",
              "      <td>0.000000</td>\n",
              "      <td>0.000000</td>\n",
              "      <td>0.000000</td>\n",
              "      <td>0.000000</td>\n",
              "      <td>0.000000</td>\n",
              "      <td>1.000000</td>\n",
              "      <td>0.000000</td>\n",
              "      <td>0.000000</td>\n",
              "      <td>0.000000</td>\n",
              "      <td>0.000000</td>\n",
              "      <td>0.000000</td>\n",
              "    </tr>\n",
              "    <tr>\n",
              "      <th>25%</th>\n",
              "      <td>25975.750000</td>\n",
              "      <td>32533.750000</td>\n",
              "      <td>27.000000</td>\n",
              "      <td>414.000000</td>\n",
              "      <td>2.000000</td>\n",
              "      <td>2.000000</td>\n",
              "      <td>2.000000</td>\n",
              "      <td>2.000000</td>\n",
              "      <td>2.000000</td>\n",
              "      <td>2.000000</td>\n",
              "      <td>2.000000</td>\n",
              "      <td>2.000000</td>\n",
              "      <td>2.000000</td>\n",
              "      <td>2.000000</td>\n",
              "      <td>3.000000</td>\n",
              "      <td>3.000000</td>\n",
              "      <td>3.000000</td>\n",
              "      <td>2.000000</td>\n",
              "      <td>0.000000</td>\n",
              "      <td>0.000000</td>\n",
              "    </tr>\n",
              "    <tr>\n",
              "      <th>50%</th>\n",
              "      <td>51951.500000</td>\n",
              "      <td>64856.500000</td>\n",
              "      <td>40.000000</td>\n",
              "      <td>843.000000</td>\n",
              "      <td>3.000000</td>\n",
              "      <td>3.000000</td>\n",
              "      <td>3.000000</td>\n",
              "      <td>3.000000</td>\n",
              "      <td>3.000000</td>\n",
              "      <td>3.000000</td>\n",
              "      <td>4.000000</td>\n",
              "      <td>4.000000</td>\n",
              "      <td>4.000000</td>\n",
              "      <td>4.000000</td>\n",
              "      <td>4.000000</td>\n",
              "      <td>3.000000</td>\n",
              "      <td>4.000000</td>\n",
              "      <td>3.000000</td>\n",
              "      <td>0.000000</td>\n",
              "      <td>0.000000</td>\n",
              "    </tr>\n",
              "    <tr>\n",
              "      <th>75%</th>\n",
              "      <td>77927.250000</td>\n",
              "      <td>97368.250000</td>\n",
              "      <td>51.000000</td>\n",
              "      <td>1743.000000</td>\n",
              "      <td>4.000000</td>\n",
              "      <td>4.000000</td>\n",
              "      <td>4.000000</td>\n",
              "      <td>4.000000</td>\n",
              "      <td>4.000000</td>\n",
              "      <td>4.000000</td>\n",
              "      <td>5.000000</td>\n",
              "      <td>4.000000</td>\n",
              "      <td>4.000000</td>\n",
              "      <td>4.000000</td>\n",
              "      <td>5.000000</td>\n",
              "      <td>4.000000</td>\n",
              "      <td>5.000000</td>\n",
              "      <td>4.000000</td>\n",
              "      <td>12.000000</td>\n",
              "      <td>13.000000</td>\n",
              "    </tr>\n",
              "    <tr>\n",
              "      <th>max</th>\n",
              "      <td>103903.000000</td>\n",
              "      <td>129880.000000</td>\n",
              "      <td>85.000000</td>\n",
              "      <td>4983.000000</td>\n",
              "      <td>5.000000</td>\n",
              "      <td>5.000000</td>\n",
              "      <td>5.000000</td>\n",
              "      <td>5.000000</td>\n",
              "      <td>5.000000</td>\n",
              "      <td>5.000000</td>\n",
              "      <td>5.000000</td>\n",
              "      <td>5.000000</td>\n",
              "      <td>5.000000</td>\n",
              "      <td>5.000000</td>\n",
              "      <td>5.000000</td>\n",
              "      <td>5.000000</td>\n",
              "      <td>5.000000</td>\n",
              "      <td>5.000000</td>\n",
              "      <td>1592.000000</td>\n",
              "      <td>1584.000000</td>\n",
              "    </tr>\n",
              "  </tbody>\n",
              "</table>\n",
              "</div>\n",
              "      <button class=\"colab-df-convert\" onclick=\"convertToInteractive('df-011b14fc-e867-46e8-9b26-fcfea704f110')\"\n",
              "              title=\"Convert this dataframe to an interactive table.\"\n",
              "              style=\"display:none;\">\n",
              "        \n",
              "  <svg xmlns=\"http://www.w3.org/2000/svg\" height=\"24px\"viewBox=\"0 0 24 24\"\n",
              "       width=\"24px\">\n",
              "    <path d=\"M0 0h24v24H0V0z\" fill=\"none\"/>\n",
              "    <path d=\"M18.56 5.44l.94 2.06.94-2.06 2.06-.94-2.06-.94-.94-2.06-.94 2.06-2.06.94zm-11 1L8.5 8.5l.94-2.06 2.06-.94-2.06-.94L8.5 2.5l-.94 2.06-2.06.94zm10 10l.94 2.06.94-2.06 2.06-.94-2.06-.94-.94-2.06-.94 2.06-2.06.94z\"/><path d=\"M17.41 7.96l-1.37-1.37c-.4-.4-.92-.59-1.43-.59-.52 0-1.04.2-1.43.59L10.3 9.45l-7.72 7.72c-.78.78-.78 2.05 0 2.83L4 21.41c.39.39.9.59 1.41.59.51 0 1.02-.2 1.41-.59l7.78-7.78 2.81-2.81c.8-.78.8-2.07 0-2.86zM5.41 20L4 18.59l7.72-7.72 1.47 1.35L5.41 20z\"/>\n",
              "  </svg>\n",
              "      </button>\n",
              "      \n",
              "  <style>\n",
              "    .colab-df-container {\n",
              "      display:flex;\n",
              "      flex-wrap:wrap;\n",
              "      gap: 12px;\n",
              "    }\n",
              "\n",
              "    .colab-df-convert {\n",
              "      background-color: #E8F0FE;\n",
              "      border: none;\n",
              "      border-radius: 50%;\n",
              "      cursor: pointer;\n",
              "      display: none;\n",
              "      fill: #1967D2;\n",
              "      height: 32px;\n",
              "      padding: 0 0 0 0;\n",
              "      width: 32px;\n",
              "    }\n",
              "\n",
              "    .colab-df-convert:hover {\n",
              "      background-color: #E2EBFA;\n",
              "      box-shadow: 0px 1px 2px rgba(60, 64, 67, 0.3), 0px 1px 3px 1px rgba(60, 64, 67, 0.15);\n",
              "      fill: #174EA6;\n",
              "    }\n",
              "\n",
              "    [theme=dark] .colab-df-convert {\n",
              "      background-color: #3B4455;\n",
              "      fill: #D2E3FC;\n",
              "    }\n",
              "\n",
              "    [theme=dark] .colab-df-convert:hover {\n",
              "      background-color: #434B5C;\n",
              "      box-shadow: 0px 1px 3px 1px rgba(0, 0, 0, 0.15);\n",
              "      filter: drop-shadow(0px 1px 2px rgba(0, 0, 0, 0.3));\n",
              "      fill: #FFFFFF;\n",
              "    }\n",
              "  </style>\n",
              "\n",
              "      <script>\n",
              "        const buttonEl =\n",
              "          document.querySelector('#df-011b14fc-e867-46e8-9b26-fcfea704f110 button.colab-df-convert');\n",
              "        buttonEl.style.display =\n",
              "          google.colab.kernel.accessAllowed ? 'block' : 'none';\n",
              "\n",
              "        async function convertToInteractive(key) {\n",
              "          const element = document.querySelector('#df-011b14fc-e867-46e8-9b26-fcfea704f110');\n",
              "          const dataTable =\n",
              "            await google.colab.kernel.invokeFunction('convertToInteractive',\n",
              "                                                     [key], {});\n",
              "          if (!dataTable) return;\n",
              "\n",
              "          const docLinkHtml = 'Like what you see? Visit the ' +\n",
              "            '<a target=\"_blank\" href=https://colab.research.google.com/notebooks/data_table.ipynb>data table notebook</a>'\n",
              "            + ' to learn more about interactive tables.';\n",
              "          element.innerHTML = '';\n",
              "          dataTable['output_type'] = 'display_data';\n",
              "          await google.colab.output.renderOutput(dataTable, element);\n",
              "          const docLink = document.createElement('div');\n",
              "          docLink.innerHTML = docLinkHtml;\n",
              "          element.appendChild(docLink);\n",
              "        }\n",
              "      </script>\n",
              "    </div>\n",
              "  </div>\n",
              "  "
            ]
          },
          "metadata": {},
          "execution_count": 117
        }
      ]
    },
    {
      "cell_type": "code",
      "source": [
        "df['satisfaction']=df['satisfaction'].map({'neutral or dissatisfied':0, 'satisfied':1})"
      ],
      "metadata": {
        "id": "bxKwcFQ5vE46"
      },
      "execution_count": null,
      "outputs": []
    },
    {
      "cell_type": "code",
      "source": [
        "df['Gender'].unique()"
      ],
      "metadata": {
        "colab": {
          "base_uri": "https://localhost:8080/"
        },
        "id": "Lhr7DqE9u7Ry",
        "outputId": "5f19956e-4d79-431e-9405-389336be8ca3"
      },
      "execution_count": null,
      "outputs": [
        {
          "output_type": "execute_result",
          "data": {
            "text/plain": [
              "array(['Male', 'Female'], dtype=object)"
            ]
          },
          "metadata": {},
          "execution_count": 119
        }
      ]
    },
    {
      "cell_type": "code",
      "source": [
        "df['Gender']=df['Gender'].map({'Female':0, 'Male':1})"
      ],
      "metadata": {
        "id": "O71ga8h_v3g8"
      },
      "execution_count": null,
      "outputs": []
    },
    {
      "cell_type": "code",
      "source": [
        "df['Customer Type'].unique()"
      ],
      "metadata": {
        "colab": {
          "base_uri": "https://localhost:8080/"
        },
        "id": "hEuXuqR3wJi8",
        "outputId": "eeccd018-3361-4c54-cd52-efca1fdfea1d"
      },
      "execution_count": null,
      "outputs": [
        {
          "output_type": "execute_result",
          "data": {
            "text/plain": [
              "array(['Loyal Customer', 'disloyal Customer'], dtype=object)"
            ]
          },
          "metadata": {},
          "execution_count": 121
        }
      ]
    },
    {
      "cell_type": "code",
      "source": [
        "df['Customer Type']=df['Customer Type'].map({'disloyal Customer':0, 'Loyal Customer':1})"
      ],
      "metadata": {
        "id": "IHfb18YqwfzX"
      },
      "execution_count": null,
      "outputs": []
    },
    {
      "cell_type": "code",
      "source": [
        "def makeAgeGroup(value):\n",
        "    if value <= 20:\n",
        "        return 0\n",
        "    if  21 <= value <= 30:\n",
        "        return 1\n",
        "    if 31 <= value <= 40:\n",
        "        return 2\n",
        "    if 41 <= value <= 60:\n",
        "        return 3 \n",
        "    if 61 <= value <= 70:\n",
        "        return 4\n",
        "    if value >= 71:\n",
        "        return 5"
      ],
      "metadata": {
        "id": "85RZrtWPyh_e"
      },
      "execution_count": null,
      "outputs": []
    },
    {
      "cell_type": "code",
      "source": [
        "df['Age_Group'] = df['Age'].apply(makeAgeGroup)\n",
        "df.head()"
      ],
      "metadata": {
        "colab": {
          "base_uri": "https://localhost:8080/",
          "height": 438
        },
        "id": "Wgn3nXrCy5IP",
        "outputId": "800e048e-d63a-4b38-af8b-89eec3c68068"
      },
      "execution_count": null,
      "outputs": [
        {
          "output_type": "execute_result",
          "data": {
            "text/plain": [
              "   Unnamed: 0      id  Gender  Customer Type  Age   Type of Travel     Class  \\\n",
              "0           0   70172       1              1   13  Personal Travel  Eco Plus   \n",
              "1           1    5047       1              0   25  Business travel  Business   \n",
              "2           2  110028       0              1   26  Business travel  Business   \n",
              "3           3   24026       0              1   25  Business travel  Business   \n",
              "4           4  119299       1              1   61  Business travel  Business   \n",
              "\n",
              "   Flight Distance  Inflight wifi service  Departure/Arrival time convenient  \\\n",
              "0              460                      3                                  4   \n",
              "1              235                      3                                  2   \n",
              "2             1142                      2                                  2   \n",
              "3              562                      2                                  5   \n",
              "4              214                      3                                  3   \n",
              "\n",
              "   ...  On-board service  Leg room service  Baggage handling  Checkin service  \\\n",
              "0  ...                 4                 3                 4                4   \n",
              "1  ...                 1                 5                 3                1   \n",
              "2  ...                 4                 3                 4                4   \n",
              "3  ...                 2                 5                 3                1   \n",
              "4  ...                 3                 4                 4                3   \n",
              "\n",
              "   Inflight service  Cleanliness  Departure Delay in Minutes  \\\n",
              "0                 5            5                          25   \n",
              "1                 4            1                           1   \n",
              "2                 4            5                           0   \n",
              "3                 4            2                          11   \n",
              "4                 3            3                           0   \n",
              "\n",
              "   Arrival Delay in Minutes  satisfaction  Age_Group  \n",
              "0                      18.0             0          0  \n",
              "1                       6.0             0          1  \n",
              "2                       0.0             1          1  \n",
              "3                       9.0             0          1  \n",
              "4                       0.0             1          4  \n",
              "\n",
              "[5 rows x 26 columns]"
            ],
            "text/html": [
              "\n",
              "  <div id=\"df-df655ce4-06e4-40e6-be09-e83cb7b89f41\">\n",
              "    <div class=\"colab-df-container\">\n",
              "      <div>\n",
              "<style scoped>\n",
              "    .dataframe tbody tr th:only-of-type {\n",
              "        vertical-align: middle;\n",
              "    }\n",
              "\n",
              "    .dataframe tbody tr th {\n",
              "        vertical-align: top;\n",
              "    }\n",
              "\n",
              "    .dataframe thead th {\n",
              "        text-align: right;\n",
              "    }\n",
              "</style>\n",
              "<table border=\"1\" class=\"dataframe\">\n",
              "  <thead>\n",
              "    <tr style=\"text-align: right;\">\n",
              "      <th></th>\n",
              "      <th>Unnamed: 0</th>\n",
              "      <th>id</th>\n",
              "      <th>Gender</th>\n",
              "      <th>Customer Type</th>\n",
              "      <th>Age</th>\n",
              "      <th>Type of Travel</th>\n",
              "      <th>Class</th>\n",
              "      <th>Flight Distance</th>\n",
              "      <th>Inflight wifi service</th>\n",
              "      <th>Departure/Arrival time convenient</th>\n",
              "      <th>...</th>\n",
              "      <th>On-board service</th>\n",
              "      <th>Leg room service</th>\n",
              "      <th>Baggage handling</th>\n",
              "      <th>Checkin service</th>\n",
              "      <th>Inflight service</th>\n",
              "      <th>Cleanliness</th>\n",
              "      <th>Departure Delay in Minutes</th>\n",
              "      <th>Arrival Delay in Minutes</th>\n",
              "      <th>satisfaction</th>\n",
              "      <th>Age_Group</th>\n",
              "    </tr>\n",
              "  </thead>\n",
              "  <tbody>\n",
              "    <tr>\n",
              "      <th>0</th>\n",
              "      <td>0</td>\n",
              "      <td>70172</td>\n",
              "      <td>1</td>\n",
              "      <td>1</td>\n",
              "      <td>13</td>\n",
              "      <td>Personal Travel</td>\n",
              "      <td>Eco Plus</td>\n",
              "      <td>460</td>\n",
              "      <td>3</td>\n",
              "      <td>4</td>\n",
              "      <td>...</td>\n",
              "      <td>4</td>\n",
              "      <td>3</td>\n",
              "      <td>4</td>\n",
              "      <td>4</td>\n",
              "      <td>5</td>\n",
              "      <td>5</td>\n",
              "      <td>25</td>\n",
              "      <td>18.0</td>\n",
              "      <td>0</td>\n",
              "      <td>0</td>\n",
              "    </tr>\n",
              "    <tr>\n",
              "      <th>1</th>\n",
              "      <td>1</td>\n",
              "      <td>5047</td>\n",
              "      <td>1</td>\n",
              "      <td>0</td>\n",
              "      <td>25</td>\n",
              "      <td>Business travel</td>\n",
              "      <td>Business</td>\n",
              "      <td>235</td>\n",
              "      <td>3</td>\n",
              "      <td>2</td>\n",
              "      <td>...</td>\n",
              "      <td>1</td>\n",
              "      <td>5</td>\n",
              "      <td>3</td>\n",
              "      <td>1</td>\n",
              "      <td>4</td>\n",
              "      <td>1</td>\n",
              "      <td>1</td>\n",
              "      <td>6.0</td>\n",
              "      <td>0</td>\n",
              "      <td>1</td>\n",
              "    </tr>\n",
              "    <tr>\n",
              "      <th>2</th>\n",
              "      <td>2</td>\n",
              "      <td>110028</td>\n",
              "      <td>0</td>\n",
              "      <td>1</td>\n",
              "      <td>26</td>\n",
              "      <td>Business travel</td>\n",
              "      <td>Business</td>\n",
              "      <td>1142</td>\n",
              "      <td>2</td>\n",
              "      <td>2</td>\n",
              "      <td>...</td>\n",
              "      <td>4</td>\n",
              "      <td>3</td>\n",
              "      <td>4</td>\n",
              "      <td>4</td>\n",
              "      <td>4</td>\n",
              "      <td>5</td>\n",
              "      <td>0</td>\n",
              "      <td>0.0</td>\n",
              "      <td>1</td>\n",
              "      <td>1</td>\n",
              "    </tr>\n",
              "    <tr>\n",
              "      <th>3</th>\n",
              "      <td>3</td>\n",
              "      <td>24026</td>\n",
              "      <td>0</td>\n",
              "      <td>1</td>\n",
              "      <td>25</td>\n",
              "      <td>Business travel</td>\n",
              "      <td>Business</td>\n",
              "      <td>562</td>\n",
              "      <td>2</td>\n",
              "      <td>5</td>\n",
              "      <td>...</td>\n",
              "      <td>2</td>\n",
              "      <td>5</td>\n",
              "      <td>3</td>\n",
              "      <td>1</td>\n",
              "      <td>4</td>\n",
              "      <td>2</td>\n",
              "      <td>11</td>\n",
              "      <td>9.0</td>\n",
              "      <td>0</td>\n",
              "      <td>1</td>\n",
              "    </tr>\n",
              "    <tr>\n",
              "      <th>4</th>\n",
              "      <td>4</td>\n",
              "      <td>119299</td>\n",
              "      <td>1</td>\n",
              "      <td>1</td>\n",
              "      <td>61</td>\n",
              "      <td>Business travel</td>\n",
              "      <td>Business</td>\n",
              "      <td>214</td>\n",
              "      <td>3</td>\n",
              "      <td>3</td>\n",
              "      <td>...</td>\n",
              "      <td>3</td>\n",
              "      <td>4</td>\n",
              "      <td>4</td>\n",
              "      <td>3</td>\n",
              "      <td>3</td>\n",
              "      <td>3</td>\n",
              "      <td>0</td>\n",
              "      <td>0.0</td>\n",
              "      <td>1</td>\n",
              "      <td>4</td>\n",
              "    </tr>\n",
              "  </tbody>\n",
              "</table>\n",
              "<p>5 rows × 26 columns</p>\n",
              "</div>\n",
              "      <button class=\"colab-df-convert\" onclick=\"convertToInteractive('df-df655ce4-06e4-40e6-be09-e83cb7b89f41')\"\n",
              "              title=\"Convert this dataframe to an interactive table.\"\n",
              "              style=\"display:none;\">\n",
              "        \n",
              "  <svg xmlns=\"http://www.w3.org/2000/svg\" height=\"24px\"viewBox=\"0 0 24 24\"\n",
              "       width=\"24px\">\n",
              "    <path d=\"M0 0h24v24H0V0z\" fill=\"none\"/>\n",
              "    <path d=\"M18.56 5.44l.94 2.06.94-2.06 2.06-.94-2.06-.94-.94-2.06-.94 2.06-2.06.94zm-11 1L8.5 8.5l.94-2.06 2.06-.94-2.06-.94L8.5 2.5l-.94 2.06-2.06.94zm10 10l.94 2.06.94-2.06 2.06-.94-2.06-.94-.94-2.06-.94 2.06-2.06.94z\"/><path d=\"M17.41 7.96l-1.37-1.37c-.4-.4-.92-.59-1.43-.59-.52 0-1.04.2-1.43.59L10.3 9.45l-7.72 7.72c-.78.78-.78 2.05 0 2.83L4 21.41c.39.39.9.59 1.41.59.51 0 1.02-.2 1.41-.59l7.78-7.78 2.81-2.81c.8-.78.8-2.07 0-2.86zM5.41 20L4 18.59l7.72-7.72 1.47 1.35L5.41 20z\"/>\n",
              "  </svg>\n",
              "      </button>\n",
              "      \n",
              "  <style>\n",
              "    .colab-df-container {\n",
              "      display:flex;\n",
              "      flex-wrap:wrap;\n",
              "      gap: 12px;\n",
              "    }\n",
              "\n",
              "    .colab-df-convert {\n",
              "      background-color: #E8F0FE;\n",
              "      border: none;\n",
              "      border-radius: 50%;\n",
              "      cursor: pointer;\n",
              "      display: none;\n",
              "      fill: #1967D2;\n",
              "      height: 32px;\n",
              "      padding: 0 0 0 0;\n",
              "      width: 32px;\n",
              "    }\n",
              "\n",
              "    .colab-df-convert:hover {\n",
              "      background-color: #E2EBFA;\n",
              "      box-shadow: 0px 1px 2px rgba(60, 64, 67, 0.3), 0px 1px 3px 1px rgba(60, 64, 67, 0.15);\n",
              "      fill: #174EA6;\n",
              "    }\n",
              "\n",
              "    [theme=dark] .colab-df-convert {\n",
              "      background-color: #3B4455;\n",
              "      fill: #D2E3FC;\n",
              "    }\n",
              "\n",
              "    [theme=dark] .colab-df-convert:hover {\n",
              "      background-color: #434B5C;\n",
              "      box-shadow: 0px 1px 3px 1px rgba(0, 0, 0, 0.15);\n",
              "      filter: drop-shadow(0px 1px 2px rgba(0, 0, 0, 0.3));\n",
              "      fill: #FFFFFF;\n",
              "    }\n",
              "  </style>\n",
              "\n",
              "      <script>\n",
              "        const buttonEl =\n",
              "          document.querySelector('#df-df655ce4-06e4-40e6-be09-e83cb7b89f41 button.colab-df-convert');\n",
              "        buttonEl.style.display =\n",
              "          google.colab.kernel.accessAllowed ? 'block' : 'none';\n",
              "\n",
              "        async function convertToInteractive(key) {\n",
              "          const element = document.querySelector('#df-df655ce4-06e4-40e6-be09-e83cb7b89f41');\n",
              "          const dataTable =\n",
              "            await google.colab.kernel.invokeFunction('convertToInteractive',\n",
              "                                                     [key], {});\n",
              "          if (!dataTable) return;\n",
              "\n",
              "          const docLinkHtml = 'Like what you see? Visit the ' +\n",
              "            '<a target=\"_blank\" href=https://colab.research.google.com/notebooks/data_table.ipynb>data table notebook</a>'\n",
              "            + ' to learn more about interactive tables.';\n",
              "          element.innerHTML = '';\n",
              "          dataTable['output_type'] = 'display_data';\n",
              "          await google.colab.output.renderOutput(dataTable, element);\n",
              "          const docLink = document.createElement('div');\n",
              "          docLink.innerHTML = docLinkHtml;\n",
              "          element.appendChild(docLink);\n",
              "        }\n",
              "      </script>\n",
              "    </div>\n",
              "  </div>\n",
              "  "
            ]
          },
          "metadata": {},
          "execution_count": 124
        }
      ]
    },
    {
      "cell_type": "code",
      "source": [
        "df['Type of Travel'].unique()"
      ],
      "metadata": {
        "colab": {
          "base_uri": "https://localhost:8080/"
        },
        "id": "8c_Uie07zbcn",
        "outputId": "667ad9ac-6b8c-47f5-b30b-0e27513c024d"
      },
      "execution_count": null,
      "outputs": [
        {
          "output_type": "execute_result",
          "data": {
            "text/plain": [
              "array(['Personal Travel', 'Business travel'], dtype=object)"
            ]
          },
          "metadata": {},
          "execution_count": 125
        }
      ]
    },
    {
      "cell_type": "code",
      "source": [
        "df['Type of Travel']=df['Type of Travel'].map({'Personal Travel':0, 'Business travel':1})"
      ],
      "metadata": {
        "id": "ayRMltYUzqz1"
      },
      "execution_count": null,
      "outputs": []
    },
    {
      "cell_type": "code",
      "source": [
        "df['Class'].unique()"
      ],
      "metadata": {
        "colab": {
          "base_uri": "https://localhost:8080/"
        },
        "id": "QeBj79ck0AWX",
        "outputId": "1a40414c-683a-41d5-8efb-c74532d7f5d5"
      },
      "execution_count": null,
      "outputs": [
        {
          "output_type": "execute_result",
          "data": {
            "text/plain": [
              "array(['Eco Plus', 'Business', 'Eco'], dtype=object)"
            ]
          },
          "metadata": {},
          "execution_count": 127
        }
      ]
    },
    {
      "cell_type": "code",
      "source": [
        "df['Class']=df['Class'].map({'Eco':0, 'Eco Plus':1, 'Business':2})"
      ],
      "metadata": {
        "id": "vKdKKi550F-J"
      },
      "execution_count": null,
      "outputs": []
    },
    {
      "cell_type": "code",
      "source": [
        "df.drop(['Unnamed: 0','id','Age'], axis=1, inplace= True)"
      ],
      "metadata": {
        "id": "cTlcrRss0pnh"
      },
      "execution_count": null,
      "outputs": []
    },
    {
      "cell_type": "code",
      "source": [
        "df.dtypes"
      ],
      "metadata": {
        "colab": {
          "base_uri": "https://localhost:8080/"
        },
        "id": "qG4HstJO1Pab",
        "outputId": "0deb9957-43b3-487b-b3d4-1dd9a1fa55b1"
      },
      "execution_count": null,
      "outputs": [
        {
          "output_type": "execute_result",
          "data": {
            "text/plain": [
              "Gender                                 int64\n",
              "Customer Type                          int64\n",
              "Type of Travel                         int64\n",
              "Class                                  int64\n",
              "Flight Distance                        int64\n",
              "Inflight wifi service                  int64\n",
              "Departure/Arrival time convenient      int64\n",
              "Ease of Online booking                 int64\n",
              "Gate location                          int64\n",
              "Food and drink                         int64\n",
              "Online boarding                        int64\n",
              "Seat comfort                           int64\n",
              "Inflight entertainment                 int64\n",
              "On-board service                       int64\n",
              "Leg room service                       int64\n",
              "Baggage handling                       int64\n",
              "Checkin service                        int64\n",
              "Inflight service                       int64\n",
              "Cleanliness                            int64\n",
              "Departure Delay in Minutes             int64\n",
              "Arrival Delay in Minutes             float64\n",
              "satisfaction                           int64\n",
              "Age_Group                              int64\n",
              "dtype: object"
            ]
          },
          "metadata": {},
          "execution_count": 130
        }
      ]
    },
    {
      "cell_type": "code",
      "source": [
        "y = df['satisfaction']"
      ],
      "metadata": {
        "id": "FT_auRvX1pG3"
      },
      "execution_count": null,
      "outputs": []
    },
    {
      "cell_type": "code",
      "source": [
        "df.drop([\"satisfaction\"], axis=1, inplace= True)"
      ],
      "metadata": {
        "id": "-hzogCc71zYC"
      },
      "execution_count": null,
      "outputs": []
    },
    {
      "cell_type": "code",
      "source": [
        "df.drop([\"Arrival Delay in Minutes\"], axis=1, inplace= True)"
      ],
      "metadata": {
        "id": "3HmzuAr_4f66"
      },
      "execution_count": null,
      "outputs": []
    },
    {
      "cell_type": "code",
      "source": [
        "scaler = StandardScaler()\n",
        "scaler.fit(df)\n",
        "x_scaler = scaler.transform(df) "
      ],
      "metadata": {
        "id": "gE20ACjt6n1g"
      },
      "execution_count": null,
      "outputs": []
    },
    {
      "cell_type": "code",
      "source": [
        "x=sm.add_constant(df)\n",
        "result = sm.OLS(y,x_scaler).fit()\n",
        "result.summary()"
      ],
      "metadata": {
        "colab": {
          "base_uri": "https://localhost:8080/",
          "height": 914
        },
        "id": "Xr1W0cpasu9J",
        "outputId": "dd7b5b43-c384-494b-8c7c-23ee17425d79"
      },
      "execution_count": null,
      "outputs": [
        {
          "output_type": "stream",
          "name": "stderr",
          "text": [
            "/usr/local/lib/python3.7/dist-packages/statsmodels/tsa/tsatools.py:142: FutureWarning: In a future version of pandas all arguments of concat except for the argument 'objs' will be keyword-only\n",
            "  x = pd.concat(x[::order], 1)\n"
          ]
        },
        {
          "output_type": "execute_result",
          "data": {
            "text/plain": [
              "<class 'statsmodels.iolib.summary.Summary'>\n",
              "\"\"\"\n",
              "                                 OLS Regression Results                                \n",
              "=======================================================================================\n",
              "Dep. Variable:           satisfaction   R-squared (uncentered):                   0.312\n",
              "Model:                            OLS   Adj. R-squared (uncentered):              0.312\n",
              "Method:                 Least Squares   F-statistic:                              2241.\n",
              "Date:                Tue, 22 Nov 2022   Prob (F-statistic):                        0.00\n",
              "Time:                        15:20:06   Log-Likelihood:                         -84575.\n",
              "No. Observations:              103904   AIC:                                  1.692e+05\n",
              "Df Residuals:                  103883   BIC:                                  1.694e+05\n",
              "Df Model:                          21                                                  \n",
              "Covariance Type:            nonrobust                                                  \n",
              "==============================================================================\n",
              "                 coef    std err          t      P>|t|      [0.025      0.975]\n",
              "------------------------------------------------------------------------------\n",
              "x1             0.0039      0.002      2.311      0.021       0.001       0.007\n",
              "x2             0.1177      0.002     55.244      0.000       0.114       0.122\n",
              "x3             0.1785      0.002     73.027      0.000       0.174       0.183\n",
              "x4             0.0580      0.002     24.405      0.000       0.053       0.063\n",
              "x5             0.0044      0.002      2.216      0.027       0.001       0.008\n",
              "x6             0.0873      0.003     32.928      0.000       0.082       0.093\n",
              "x7            -0.0248      0.002    -11.331      0.000      -0.029      -0.021\n",
              "x8            -0.0556      0.003    -19.954      0.000      -0.061      -0.050\n",
              "x9             0.0056      0.002      2.678      0.007       0.001       0.010\n",
              "x10           -0.0058      0.002     -2.341      0.019      -0.011      -0.001\n",
              "x11            0.1090      0.002     45.541      0.000       0.104       0.114\n",
              "x12            0.0114      0.003      4.366      0.000       0.006       0.017\n",
              "x13            0.0209      0.003      6.248      0.000       0.014       0.027\n",
              "x14            0.0458      0.002     20.326      0.000       0.041       0.050\n",
              "x15            0.0440      0.002     22.637      0.000       0.040       0.048\n",
              "x16            0.0201      0.002      8.612      0.000       0.016       0.025\n",
              "x17            0.0475      0.002     25.310      0.000       0.044       0.051\n",
              "x18            0.0175      0.002      7.165      0.000       0.013       0.022\n",
              "x19            0.0328      0.003     11.413      0.000       0.027       0.038\n",
              "x20           -0.0179      0.002    -10.535      0.000      -0.021      -0.015\n",
              "x21           -0.0135      0.002     -7.356      0.000      -0.017      -0.010\n",
              "==============================================================================\n",
              "Omnibus:                     6089.463   Durbin-Watson:                   0.741\n",
              "Prob(Omnibus):                  0.000   Jarque-Bera (JB):             9264.371\n",
              "Skew:                           0.502   Prob(JB):                         0.00\n",
              "Kurtosis:                       4.064   Cond. No.                         4.82\n",
              "==============================================================================\n",
              "\n",
              "Notes:\n",
              "[1] R² is computed without centering (uncentered) since the model does not contain a constant.\n",
              "[2] Standard Errors assume that the covariance matrix of the errors is correctly specified.\n",
              "\"\"\""
            ],
            "text/html": [
              "<table class=\"simpletable\">\n",
              "<caption>OLS Regression Results</caption>\n",
              "<tr>\n",
              "  <th>Dep. Variable:</th>      <td>satisfaction</td>   <th>  R-squared (uncentered):</th>      <td>   0.312</td> \n",
              "</tr>\n",
              "<tr>\n",
              "  <th>Model:</th>                   <td>OLS</td>       <th>  Adj. R-squared (uncentered):</th> <td>   0.312</td> \n",
              "</tr>\n",
              "<tr>\n",
              "  <th>Method:</th>             <td>Least Squares</td>  <th>  F-statistic:       </th>          <td>   2241.</td> \n",
              "</tr>\n",
              "<tr>\n",
              "  <th>Date:</th>             <td>Tue, 22 Nov 2022</td> <th>  Prob (F-statistic):</th>           <td>  0.00</td>  \n",
              "</tr>\n",
              "<tr>\n",
              "  <th>Time:</th>                 <td>15:20:06</td>     <th>  Log-Likelihood:    </th>          <td> -84575.</td> \n",
              "</tr>\n",
              "<tr>\n",
              "  <th>No. Observations:</th>      <td>103904</td>      <th>  AIC:               </th>          <td>1.692e+05</td>\n",
              "</tr>\n",
              "<tr>\n",
              "  <th>Df Residuals:</th>          <td>103883</td>      <th>  BIC:               </th>          <td>1.694e+05</td>\n",
              "</tr>\n",
              "<tr>\n",
              "  <th>Df Model:</th>              <td>    21</td>      <th>                     </th>              <td> </td>    \n",
              "</tr>\n",
              "<tr>\n",
              "  <th>Covariance Type:</th>      <td>nonrobust</td>    <th>                     </th>              <td> </td>    \n",
              "</tr>\n",
              "</table>\n",
              "<table class=\"simpletable\">\n",
              "<tr>\n",
              "   <td></td>      <th>coef</th>     <th>std err</th>      <th>t</th>      <th>P>|t|</th>  <th>[0.025</th>    <th>0.975]</th>  \n",
              "</tr>\n",
              "<tr>\n",
              "  <th>x1</th>  <td>    0.0039</td> <td>    0.002</td> <td>    2.311</td> <td> 0.021</td> <td>    0.001</td> <td>    0.007</td>\n",
              "</tr>\n",
              "<tr>\n",
              "  <th>x2</th>  <td>    0.1177</td> <td>    0.002</td> <td>   55.244</td> <td> 0.000</td> <td>    0.114</td> <td>    0.122</td>\n",
              "</tr>\n",
              "<tr>\n",
              "  <th>x3</th>  <td>    0.1785</td> <td>    0.002</td> <td>   73.027</td> <td> 0.000</td> <td>    0.174</td> <td>    0.183</td>\n",
              "</tr>\n",
              "<tr>\n",
              "  <th>x4</th>  <td>    0.0580</td> <td>    0.002</td> <td>   24.405</td> <td> 0.000</td> <td>    0.053</td> <td>    0.063</td>\n",
              "</tr>\n",
              "<tr>\n",
              "  <th>x5</th>  <td>    0.0044</td> <td>    0.002</td> <td>    2.216</td> <td> 0.027</td> <td>    0.001</td> <td>    0.008</td>\n",
              "</tr>\n",
              "<tr>\n",
              "  <th>x6</th>  <td>    0.0873</td> <td>    0.003</td> <td>   32.928</td> <td> 0.000</td> <td>    0.082</td> <td>    0.093</td>\n",
              "</tr>\n",
              "<tr>\n",
              "  <th>x7</th>  <td>   -0.0248</td> <td>    0.002</td> <td>  -11.331</td> <td> 0.000</td> <td>   -0.029</td> <td>   -0.021</td>\n",
              "</tr>\n",
              "<tr>\n",
              "  <th>x8</th>  <td>   -0.0556</td> <td>    0.003</td> <td>  -19.954</td> <td> 0.000</td> <td>   -0.061</td> <td>   -0.050</td>\n",
              "</tr>\n",
              "<tr>\n",
              "  <th>x9</th>  <td>    0.0056</td> <td>    0.002</td> <td>    2.678</td> <td> 0.007</td> <td>    0.001</td> <td>    0.010</td>\n",
              "</tr>\n",
              "<tr>\n",
              "  <th>x10</th> <td>   -0.0058</td> <td>    0.002</td> <td>   -2.341</td> <td> 0.019</td> <td>   -0.011</td> <td>   -0.001</td>\n",
              "</tr>\n",
              "<tr>\n",
              "  <th>x11</th> <td>    0.1090</td> <td>    0.002</td> <td>   45.541</td> <td> 0.000</td> <td>    0.104</td> <td>    0.114</td>\n",
              "</tr>\n",
              "<tr>\n",
              "  <th>x12</th> <td>    0.0114</td> <td>    0.003</td> <td>    4.366</td> <td> 0.000</td> <td>    0.006</td> <td>    0.017</td>\n",
              "</tr>\n",
              "<tr>\n",
              "  <th>x13</th> <td>    0.0209</td> <td>    0.003</td> <td>    6.248</td> <td> 0.000</td> <td>    0.014</td> <td>    0.027</td>\n",
              "</tr>\n",
              "<tr>\n",
              "  <th>x14</th> <td>    0.0458</td> <td>    0.002</td> <td>   20.326</td> <td> 0.000</td> <td>    0.041</td> <td>    0.050</td>\n",
              "</tr>\n",
              "<tr>\n",
              "  <th>x15</th> <td>    0.0440</td> <td>    0.002</td> <td>   22.637</td> <td> 0.000</td> <td>    0.040</td> <td>    0.048</td>\n",
              "</tr>\n",
              "<tr>\n",
              "  <th>x16</th> <td>    0.0201</td> <td>    0.002</td> <td>    8.612</td> <td> 0.000</td> <td>    0.016</td> <td>    0.025</td>\n",
              "</tr>\n",
              "<tr>\n",
              "  <th>x17</th> <td>    0.0475</td> <td>    0.002</td> <td>   25.310</td> <td> 0.000</td> <td>    0.044</td> <td>    0.051</td>\n",
              "</tr>\n",
              "<tr>\n",
              "  <th>x18</th> <td>    0.0175</td> <td>    0.002</td> <td>    7.165</td> <td> 0.000</td> <td>    0.013</td> <td>    0.022</td>\n",
              "</tr>\n",
              "<tr>\n",
              "  <th>x19</th> <td>    0.0328</td> <td>    0.003</td> <td>   11.413</td> <td> 0.000</td> <td>    0.027</td> <td>    0.038</td>\n",
              "</tr>\n",
              "<tr>\n",
              "  <th>x20</th> <td>   -0.0179</td> <td>    0.002</td> <td>  -10.535</td> <td> 0.000</td> <td>   -0.021</td> <td>   -0.015</td>\n",
              "</tr>\n",
              "<tr>\n",
              "  <th>x21</th> <td>   -0.0135</td> <td>    0.002</td> <td>   -7.356</td> <td> 0.000</td> <td>   -0.017</td> <td>   -0.010</td>\n",
              "</tr>\n",
              "</table>\n",
              "<table class=\"simpletable\">\n",
              "<tr>\n",
              "  <th>Omnibus:</th>       <td>6089.463</td> <th>  Durbin-Watson:     </th> <td>   0.741</td>\n",
              "</tr>\n",
              "<tr>\n",
              "  <th>Prob(Omnibus):</th>  <td> 0.000</td>  <th>  Jarque-Bera (JB):  </th> <td>9264.371</td>\n",
              "</tr>\n",
              "<tr>\n",
              "  <th>Skew:</th>           <td> 0.502</td>  <th>  Prob(JB):          </th> <td>    0.00</td>\n",
              "</tr>\n",
              "<tr>\n",
              "  <th>Kurtosis:</th>       <td> 4.064</td>  <th>  Cond. No.          </th> <td>    4.82</td>\n",
              "</tr>\n",
              "</table><br/><br/>Notes:<br/>[1] R² is computed without centering (uncentered) since the model does not contain a constant.<br/>[2] Standard Errors assume that the covariance matrix of the errors is correctly specified."
            ]
          },
          "metadata": {},
          "execution_count": 140
        }
      ]
    },
    {
      "cell_type": "code",
      "source": [
        "x_train,x_test,y_train,y_test=train_test_split(x_scaler,y,test_size=0.2,random_state=43)"
      ],
      "metadata": {
        "id": "JLD1tSqI-m-c"
      },
      "execution_count": null,
      "outputs": []
    },
    {
      "cell_type": "code",
      "source": [
        "reg = RandomForestClassifier()"
      ],
      "metadata": {
        "id": "mD3jOq3lza3n"
      },
      "execution_count": null,
      "outputs": []
    },
    {
      "cell_type": "code",
      "source": [
        "reg.fit(x_train,y_train)"
      ],
      "metadata": {
        "colab": {
          "base_uri": "https://localhost:8080/"
        },
        "id": "20oAbaIA9jFf",
        "outputId": "a8f2465b-8c8f-4345-e506-d16d7d76ff73"
      },
      "execution_count": null,
      "outputs": [
        {
          "output_type": "execute_result",
          "data": {
            "text/plain": [
              "RandomForestClassifier()"
            ]
          },
          "metadata": {},
          "execution_count": 162
        }
      ]
    },
    {
      "cell_type": "code",
      "source": [
        "y_predict = reg.predict(x_test)"
      ],
      "metadata": {
        "id": "a6oXIjuy_SKv"
      },
      "execution_count": null,
      "outputs": []
    },
    {
      "cell_type": "code",
      "source": [
        "y_predict"
      ],
      "metadata": {
        "colab": {
          "base_uri": "https://localhost:8080/"
        },
        "id": "WYd9HALF_ncC",
        "outputId": "2518f0de-2913-4569-a01e-83e799633f3d"
      },
      "execution_count": null,
      "outputs": [
        {
          "output_type": "execute_result",
          "data": {
            "text/plain": [
              "array([0, 0, 1, ..., 1, 0, 1])"
            ]
          },
          "metadata": {},
          "execution_count": 164
        }
      ]
    },
    {
      "cell_type": "code",
      "source": [
        "import matplotlib.pyplot as plt\n",
        "import seaborn as sns"
      ],
      "metadata": {
        "id": "MrNkcIGv_-j4"
      },
      "execution_count": null,
      "outputs": []
    },
    {
      "cell_type": "code",
      "source": [
        "from sklearn.metrics import confusion_matrix, accuracy_score,classification_report"
      ],
      "metadata": {
        "id": "32ceu4Qx-KU9"
      },
      "execution_count": null,
      "outputs": []
    },
    {
      "cell_type": "code",
      "source": [
        "cm = confusion_matrix(y_test,y_predict)"
      ],
      "metadata": {
        "id": "oR2xxTZM_NSo"
      },
      "execution_count": null,
      "outputs": []
    },
    {
      "cell_type": "code",
      "source": [
        "cm"
      ],
      "metadata": {
        "colab": {
          "base_uri": "https://localhost:8080/"
        },
        "id": "GsVDPOdp_drs",
        "outputId": "523e1509-2ac1-44f8-e195-7c1e3e2c6225"
      },
      "execution_count": null,
      "outputs": [
        {
          "output_type": "execute_result",
          "data": {
            "text/plain": [
              "array([[11519,   204],\n",
              "       [  593,  8465]])"
            ]
          },
          "metadata": {},
          "execution_count": 166
        }
      ]
    },
    {
      "cell_type": "code",
      "source": [
        "print(classification_report(y_test,y_predict))"
      ],
      "metadata": {
        "colab": {
          "base_uri": "https://localhost:8080/"
        },
        "id": "rnmE6KXPBn2C",
        "outputId": "4201956a-93c9-432d-cddd-4c2a71e4a8ee"
      },
      "execution_count": null,
      "outputs": [
        {
          "output_type": "stream",
          "name": "stdout",
          "text": [
            "              precision    recall  f1-score   support\n",
            "\n",
            "           0       0.95      0.98      0.97     11723\n",
            "           1       0.98      0.93      0.96      9058\n",
            "\n",
            "    accuracy                           0.96     20781\n",
            "   macro avg       0.96      0.96      0.96     20781\n",
            "weighted avg       0.96      0.96      0.96     20781\n",
            "\n"
          ]
        }
      ]
    },
    {
      "cell_type": "code",
      "source": [
        "accuracy_score(y_test,y_predict)"
      ],
      "metadata": {
        "colab": {
          "base_uri": "https://localhost:8080/"
        },
        "id": "FU1FGyE3CX53",
        "outputId": "1eb008c2-9cf2-4598-f658-041869d3071a"
      },
      "execution_count": null,
      "outputs": [
        {
          "output_type": "execute_result",
          "data": {
            "text/plain": [
              "0.961647658919205"
            ]
          },
          "metadata": {},
          "execution_count": 174
        }
      ]
    }
  ]
}